{
 "cells": [
  {
   "cell_type": "markdown",
   "id": "02056ad7",
   "metadata": {},
   "source": [
    "## sub-task 3 제출 스크립트\n",
    "ETRI FASHION-HOW Season 5 task3 제출코드입니다.\n",
    "#### 주의: 반드시 본 파일을 이용하여 제출을 수행해야 하며 파일의 이름은 task.ipynb로 유지되어야 합니다.\n",
    "- 작성하신 추론용 코드(예: main.py)를 본 스크립트 내의 etri_task3_submit() 함수로 작동되게끔 삽입하는 것으로 결과 제출을 수행할 수 있습니다.\n",
    "- **Continual learning**을 평가하는 과제로, 6개 데이터셋을 **순차적으로 학습**한 모델을 업로드하여 각 데이터에 대해 추론을 수행하도록 구성합니다.\n",
    "\n",
    "\n",
    "코드는 크게 4가지 파트로 구성되며, 해당 파트의 특성을 지켜서 내용을 편집하시면 되겠습니다.\n",
    "1. 제출용 aifactory 라이브러리 설치\n",
    "2. etri_task3_submit() 함수 편집 (추론 스크립트)\n",
    "3. submit() 함수로 wrapping\n",
    "4. if __name__ == \"__main__\" 조건문을 이용한 제출 수행\n",
    "\n",
    "※ 가능하면 제출시에는 포함되어 있는 train data를 폴더에서 제외하고 제출하시는 편이 좋습니다.\n",
    "- 파일 크기 감소 → 업로드 시간 감소 → 전체 추론 수행 시간 감소"
   ]
  },
  {
   "cell_type": "markdown",
   "id": "99fc1398",
   "metadata": {},
   "source": [
    "### 1. 제출용 aifactory 라이브러리 설치\n",
    "#### 결과 전송에 필요하므로 아래와 같이 aifactory 라이브러리가 반드시 최신버전으로 설치될 수 있게끔 합니다"
   ]
  },
  {
   "cell_type": "code",
   "execution_count": 1,
   "id": "d7f3f0fa",
   "metadata": {
    "scrolled": true
   },
   "outputs": [
    {
     "name": "stdout",
     "output_type": "stream",
     "text": [
      "Requirement already satisfied: aifactory in c:\\users\\qkrtn\\miniconda3\\envs\\lgaimers\\lib\\site-packages (1.9.3)\n",
      "Requirement already satisfied: pipreqs in c:\\users\\qkrtn\\miniconda3\\envs\\lgaimers\\lib\\site-packages (from aifactory) (0.5.0)\n",
      "Requirement already satisfied: ipynbname in c:\\users\\qkrtn\\miniconda3\\envs\\lgaimers\\lib\\site-packages (from aifactory) (2024.1.0.0)\n",
      "Requirement already satisfied: gdown in c:\\users\\qkrtn\\miniconda3\\envs\\lgaimers\\lib\\site-packages (from aifactory) (5.2.0)\n",
      "Requirement already satisfied: requests in c:\\users\\qkrtn\\miniconda3\\envs\\lgaimers\\lib\\site-packages (from aifactory) (2.31.0)\n",
      "Requirement already satisfied: IPython in c:\\users\\qkrtn\\miniconda3\\envs\\lgaimers\\lib\\site-packages (from aifactory) (8.12.3)\n",
      "Requirement already satisfied: beautifulsoup4 in c:\\users\\qkrtn\\miniconda3\\envs\\lgaimers\\lib\\site-packages (from gdown->aifactory) (4.12.2)\n",
      "Requirement already satisfied: filelock in c:\\users\\qkrtn\\miniconda3\\envs\\lgaimers\\lib\\site-packages (from gdown->aifactory) (3.13.1)\n",
      "Requirement already satisfied: tqdm in c:\\users\\qkrtn\\miniconda3\\envs\\lgaimers\\lib\\site-packages (from gdown->aifactory) (4.66.5)\n",
      "Requirement already satisfied: ipykernel in c:\\users\\qkrtn\\miniconda3\\envs\\lgaimers\\lib\\site-packages (from ipynbname->aifactory) (6.28.0)\n",
      "Requirement already satisfied: backcall in c:\\users\\qkrtn\\miniconda3\\envs\\lgaimers\\lib\\site-packages (from IPython->aifactory) (0.2.0)\n",
      "Requirement already satisfied: decorator in c:\\users\\qkrtn\\miniconda3\\envs\\lgaimers\\lib\\site-packages (from IPython->aifactory) (5.1.1)\n",
      "Requirement already satisfied: jedi>=0.16 in c:\\users\\qkrtn\\miniconda3\\envs\\lgaimers\\lib\\site-packages (from IPython->aifactory) (0.18.1)\n",
      "Requirement already satisfied: matplotlib-inline in c:\\users\\qkrtn\\miniconda3\\envs\\lgaimers\\lib\\site-packages (from IPython->aifactory) (0.1.6)\n",
      "Requirement already satisfied: pickleshare in c:\\users\\qkrtn\\miniconda3\\envs\\lgaimers\\lib\\site-packages (from IPython->aifactory) (0.7.5)\n",
      "Requirement already satisfied: prompt-toolkit!=3.0.37,<3.1.0,>=3.0.30 in c:\\users\\qkrtn\\miniconda3\\envs\\lgaimers\\lib\\site-packages (from IPython->aifactory) (3.0.43)\n",
      "Requirement already satisfied: pygments>=2.4.0 in c:\\users\\qkrtn\\miniconda3\\envs\\lgaimers\\lib\\site-packages (from IPython->aifactory) (2.15.1)\n",
      "Requirement already satisfied: stack-data in c:\\users\\qkrtn\\miniconda3\\envs\\lgaimers\\lib\\site-packages (from IPython->aifactory) (0.2.0)\n",
      "Requirement already satisfied: traitlets>=5 in c:\\users\\qkrtn\\miniconda3\\envs\\lgaimers\\lib\\site-packages (from IPython->aifactory) (5.7.1)\n",
      "Requirement already satisfied: colorama in c:\\users\\qkrtn\\miniconda3\\envs\\lgaimers\\lib\\site-packages (from IPython->aifactory) (0.4.6)\n",
      "Requirement already satisfied: docopt==0.6.2 in c:\\users\\qkrtn\\miniconda3\\envs\\lgaimers\\lib\\site-packages (from pipreqs->aifactory) (0.6.2)\n",
      "Requirement already satisfied: nbconvert<8.0.0,>=7.11.0 in c:\\users\\qkrtn\\miniconda3\\envs\\lgaimers\\lib\\site-packages (from pipreqs->aifactory) (7.16.4)\n",
      "Requirement already satisfied: yarg==0.1.9 in c:\\users\\qkrtn\\miniconda3\\envs\\lgaimers\\lib\\site-packages (from pipreqs->aifactory) (0.1.9)\n",
      "Requirement already satisfied: charset-normalizer<4,>=2 in c:\\users\\qkrtn\\miniconda3\\envs\\lgaimers\\lib\\site-packages (from requests->aifactory) (2.0.4)\n",
      "Requirement already satisfied: idna<4,>=2.5 in c:\\users\\qkrtn\\miniconda3\\envs\\lgaimers\\lib\\site-packages (from requests->aifactory) (3.4)\n",
      "Requirement already satisfied: urllib3<3,>=1.21.1 in c:\\users\\qkrtn\\miniconda3\\envs\\lgaimers\\lib\\site-packages (from requests->aifactory) (1.26.18)\n",
      "Requirement already satisfied: certifi>=2017.4.17 in c:\\users\\qkrtn\\miniconda3\\envs\\lgaimers\\lib\\site-packages (from requests->aifactory) (2024.2.2)\n",
      "Requirement already satisfied: parso<0.9.0,>=0.8.0 in c:\\users\\qkrtn\\miniconda3\\envs\\lgaimers\\lib\\site-packages (from jedi>=0.16->IPython->aifactory) (0.8.3)\n",
      "Requirement already satisfied: bleach!=5.0.0 in c:\\users\\qkrtn\\miniconda3\\envs\\lgaimers\\lib\\site-packages (from nbconvert<8.0.0,>=7.11.0->pipreqs->aifactory) (4.1.0)\n",
      "Requirement already satisfied: defusedxml in c:\\users\\qkrtn\\miniconda3\\envs\\lgaimers\\lib\\site-packages (from nbconvert<8.0.0,>=7.11.0->pipreqs->aifactory) (0.7.1)\n",
      "Requirement already satisfied: jinja2>=3.0 in c:\\users\\qkrtn\\miniconda3\\envs\\lgaimers\\lib\\site-packages (from nbconvert<8.0.0,>=7.11.0->pipreqs->aifactory) (3.1.3)\n",
      "Requirement already satisfied: jupyter-core>=4.7 in c:\\users\\qkrtn\\miniconda3\\envs\\lgaimers\\lib\\site-packages (from nbconvert<8.0.0,>=7.11.0->pipreqs->aifactory) (5.5.0)\n",
      "Requirement already satisfied: jupyterlab-pygments in c:\\users\\qkrtn\\miniconda3\\envs\\lgaimers\\lib\\site-packages (from nbconvert<8.0.0,>=7.11.0->pipreqs->aifactory) (0.1.2)\n",
      "Requirement already satisfied: markupsafe>=2.0 in c:\\users\\qkrtn\\miniconda3\\envs\\lgaimers\\lib\\site-packages (from nbconvert<8.0.0,>=7.11.0->pipreqs->aifactory) (2.1.3)\n",
      "Requirement already satisfied: mistune<4,>=2.0.3 in c:\\users\\qkrtn\\miniconda3\\envs\\lgaimers\\lib\\site-packages (from nbconvert<8.0.0,>=7.11.0->pipreqs->aifactory) (2.0.4)\n",
      "Requirement already satisfied: nbclient>=0.5.0 in c:\\users\\qkrtn\\miniconda3\\envs\\lgaimers\\lib\\site-packages (from nbconvert<8.0.0,>=7.11.0->pipreqs->aifactory) (0.8.0)\n",
      "Requirement already satisfied: nbformat>=5.7 in c:\\users\\qkrtn\\miniconda3\\envs\\lgaimers\\lib\\site-packages (from nbconvert<8.0.0,>=7.11.0->pipreqs->aifactory) (5.9.2)\n",
      "Requirement already satisfied: packaging in c:\\users\\qkrtn\\miniconda3\\envs\\lgaimers\\lib\\site-packages (from nbconvert<8.0.0,>=7.11.0->pipreqs->aifactory) (23.1)\n",
      "Requirement already satisfied: pandocfilters>=1.4.1 in c:\\users\\qkrtn\\miniconda3\\envs\\lgaimers\\lib\\site-packages (from nbconvert<8.0.0,>=7.11.0->pipreqs->aifactory) (1.5.0)\n",
      "Requirement already satisfied: tinycss2 in c:\\users\\qkrtn\\miniconda3\\envs\\lgaimers\\lib\\site-packages (from nbconvert<8.0.0,>=7.11.0->pipreqs->aifactory) (1.2.1)\n",
      "Requirement already satisfied: wcwidth in c:\\users\\qkrtn\\miniconda3\\envs\\lgaimers\\lib\\site-packages (from prompt-toolkit!=3.0.37,<3.1.0,>=3.0.30->IPython->aifactory) (0.2.5)\n",
      "Requirement already satisfied: soupsieve>1.2 in c:\\users\\qkrtn\\miniconda3\\envs\\lgaimers\\lib\\site-packages (from beautifulsoup4->gdown->aifactory) (2.5)\n",
      "Requirement already satisfied: comm>=0.1.1 in c:\\users\\qkrtn\\miniconda3\\envs\\lgaimers\\lib\\site-packages (from ipykernel->ipynbname->aifactory) (0.1.2)\n",
      "Requirement already satisfied: debugpy>=1.6.5 in c:\\users\\qkrtn\\miniconda3\\envs\\lgaimers\\lib\\site-packages (from ipykernel->ipynbname->aifactory) (1.6.7)\n",
      "Requirement already satisfied: jupyter-client>=6.1.12 in c:\\users\\qkrtn\\miniconda3\\envs\\lgaimers\\lib\\site-packages (from ipykernel->ipynbname->aifactory) (8.6.0)\n",
      "Requirement already satisfied: nest-asyncio in c:\\users\\qkrtn\\miniconda3\\envs\\lgaimers\\lib\\site-packages (from ipykernel->ipynbname->aifactory) (1.5.6)\n",
      "Requirement already satisfied: psutil in c:\\users\\qkrtn\\miniconda3\\envs\\lgaimers\\lib\\site-packages (from ipykernel->ipynbname->aifactory) (5.9.0)\n",
      "Requirement already satisfied: pyzmq>=24 in c:\\users\\qkrtn\\miniconda3\\envs\\lgaimers\\lib\\site-packages (from ipykernel->ipynbname->aifactory) (25.1.2)\n",
      "Requirement already satisfied: tornado>=6.1 in c:\\users\\qkrtn\\miniconda3\\envs\\lgaimers\\lib\\site-packages (from ipykernel->ipynbname->aifactory) (6.3.3)\n",
      "Requirement already satisfied: PySocks!=1.5.7,>=1.5.6 in c:\\users\\qkrtn\\miniconda3\\envs\\lgaimers\\lib\\site-packages (from requests[socks]->gdown->aifactory) (1.7.1)\n",
      "Requirement already satisfied: executing in c:\\users\\qkrtn\\miniconda3\\envs\\lgaimers\\lib\\site-packages (from stack-data->IPython->aifactory) (0.8.3)\n",
      "Requirement already satisfied: asttokens in c:\\users\\qkrtn\\miniconda3\\envs\\lgaimers\\lib\\site-packages (from stack-data->IPython->aifactory) (2.0.5)\n",
      "Requirement already satisfied: pure-eval in c:\\users\\qkrtn\\miniconda3\\envs\\lgaimers\\lib\\site-packages (from stack-data->IPython->aifactory) (0.2.2)\n",
      "Requirement already satisfied: six>=1.9.0 in c:\\users\\qkrtn\\miniconda3\\envs\\lgaimers\\lib\\site-packages (from bleach!=5.0.0->nbconvert<8.0.0,>=7.11.0->pipreqs->aifactory) (1.16.0)\n",
      "Requirement already satisfied: webencodings in c:\\users\\qkrtn\\miniconda3\\envs\\lgaimers\\lib\\site-packages (from bleach!=5.0.0->nbconvert<8.0.0,>=7.11.0->pipreqs->aifactory) (0.5.1)\n",
      "Requirement already satisfied: python-dateutil>=2.8.2 in c:\\users\\qkrtn\\miniconda3\\envs\\lgaimers\\lib\\site-packages (from jupyter-client>=6.1.12->ipykernel->ipynbname->aifactory) (2.8.2)\n",
      "Requirement already satisfied: platformdirs>=2.5 in c:\\users\\qkrtn\\miniconda3\\envs\\lgaimers\\lib\\site-packages (from jupyter-core>=4.7->nbconvert<8.0.0,>=7.11.0->pipreqs->aifactory) (3.10.0)\n",
      "Requirement already satisfied: pywin32>=300 in c:\\users\\qkrtn\\miniconda3\\envs\\lgaimers\\lib\\site-packages (from jupyter-core>=4.7->nbconvert<8.0.0,>=7.11.0->pipreqs->aifactory) (305.1)\n",
      "Requirement already satisfied: fastjsonschema in c:\\users\\qkrtn\\miniconda3\\envs\\lgaimers\\lib\\site-packages (from nbformat>=5.7->nbconvert<8.0.0,>=7.11.0->pipreqs->aifactory) (2.16.2)\n",
      "Requirement already satisfied: jsonschema>=2.6 in c:\\users\\qkrtn\\miniconda3\\envs\\lgaimers\\lib\\site-packages (from nbformat>=5.7->nbconvert<8.0.0,>=7.11.0->pipreqs->aifactory) (4.19.2)\n",
      "Requirement already satisfied: attrs>=22.2.0 in c:\\users\\qkrtn\\miniconda3\\envs\\lgaimers\\lib\\site-packages (from jsonschema>=2.6->nbformat>=5.7->nbconvert<8.0.0,>=7.11.0->pipreqs->aifactory) (23.1.0)\n",
      "Requirement already satisfied: jsonschema-specifications>=2023.03.6 in c:\\users\\qkrtn\\miniconda3\\envs\\lgaimers\\lib\\site-packages (from jsonschema>=2.6->nbformat>=5.7->nbconvert<8.0.0,>=7.11.0->pipreqs->aifactory) (2023.7.1)\n",
      "Requirement already satisfied: referencing>=0.28.4 in c:\\users\\qkrtn\\miniconda3\\envs\\lgaimers\\lib\\site-packages (from jsonschema>=2.6->nbformat>=5.7->nbconvert<8.0.0,>=7.11.0->pipreqs->aifactory) (0.30.2)\n",
      "Requirement already satisfied: rpds-py>=0.7.1 in c:\\users\\qkrtn\\miniconda3\\envs\\lgaimers\\lib\\site-packages (from jsonschema>=2.6->nbformat>=5.7->nbconvert<8.0.0,>=7.11.0->pipreqs->aifactory) (0.10.6)\n"
     ]
    }
   ],
   "source": [
    "!pip install -U aifactory"
   ]
  },
  {
   "cell_type": "markdown",
   "id": "ac3cd1fd",
   "metadata": {},
   "source": [
    "### 2. etri_task3_submit() 함수 편집 (추론 스크립트)\n",
    "#### etri_task3_submit() 편집 시 주의사항\n",
    "\n",
    "1. 아래 etri_task3_submit() 함수 내에 전체 추론 실행 코드를 삽입, 6개 테스트셋에 대하여 추론을 6회 수행하고 결과를 list로 묶어 return하게끔 구성\n",
    "   - Baseline이 아닌 다른 모델을 사용하는 경우에도 동일\n",
    "2. 함수 내에서는 import * 가 적용되지 않으므로 필요한 import object를 직접 입력\n",
    "   - 반드시 함수 내에서 import가 이루어져야 합니다.\n",
    "3. argparse 사용시 args, _ = parser.parse_known_args()로 인자 지정\n",
    "   args = parser.parse_args()는 jupyter에서 오류가 발생합니다!!!\n",
    "4. 모델 내부의 경로는 ./ 으로 경로를 지정합니다. (예: weight 파일 경로 = ./model/...)\n",
    "5. 데이터는 **/aif/data/** 경로 아래에 있습니다. (코드 내용 참조)\n",
    "   - subWordEmb_path는 /aif/sstm_v0p5_deploy/ 안에 .dat 파일이 있습니다.\n",
    "6. return할 결과물과 양식에 유의합니다."
   ]
  },
  {
   "cell_type": "code",
   "execution_count": 2,
   "id": "77d05b4d",
   "metadata": {},
   "outputs": [],
   "source": [
    "# main.py의 내용을 test 옵션과 제출 후 자동추론 환경에 맞게끔 수정하여 함수화\n",
    "\n",
    "def etri_task3_submit():\n",
    "    # torch\n",
    "    import torch\n",
    "\n",
    "    # built-in library\n",
    "    import os\n",
    "    import argparse\n",
    "\n",
    "    # custom modules\n",
    "    from exp_utils import get_udevice, load_cfg\n",
    "    from exp_manager import Manager\n",
    "    \n",
    "    cores = os.cpu_count()\n",
    "    torch.set_num_threads(cores)\n",
    "\n",
    "    ### input options ###\n",
    "    parser = argparse.ArgumentParser(description='AI Fashion Coordinator.')\n",
    "\n",
    "    parser.add_argument('--cfg_path', type=str,\n",
    "                        default='./cfgs/09_dec_model_size_with_08_masks.yaml', # 주의) 모델 변경 시 cfg 파일 경로도 변경\n",
    "                        help=\"실험에 필요한 값들을 설정해둔 yaml 파일의 경로를 입력합니다.\")\n",
    "\n",
    "    args, _ = parser.parse_known_args()\n",
    "    ### input options ###\n",
    "\n",
    "    # load configuration file\n",
    "    cfg = load_cfg(args.cfg_path)\n",
    "\n",
    "    # set pred mode\n",
    "    cfg['global']['mode'] = 'pred'\n",
    "\n",
    "    # check configuration value\n",
    "    print('<Parsed arguments>')\n",
    "    for category, value in cfg.items():\n",
    "        print(f\"##### {category} #####\")\n",
    "        for name, value in cfg[category].items():\n",
    "            print(f\"{name}: {value}\")\n",
    "\n",
    "        print('-' * 20)\n",
    "\n",
    "    # set model\n",
    "    manager = Manager(cfg, get_udevice())\n",
    "    \n",
    "    ####### 테스트 파일 경로를 바꿔가면서 6회의 로드와 추론을 수행 #######\n",
    "    ### 다른 모델을 사용하는 경우에도 6회의 추론이 수행되어야 함에 유의 ###\n",
    "\n",
    "    out = [] # 각 예측 결과를 리스트 형태로 묶어서 리턴\n",
    "    \n",
    "    for i in range(6):\n",
    "        manager._in_file_tst_dialog = f'/aif/data/cl_eval_task{i + 1}.wst.tst.2024' # 경로에 주의\n",
    "        out.append(manager.pred(task_id=i))\n",
    "    \n",
    "    return out "
   ]
  },
  {
   "cell_type": "markdown",
   "id": "a59cee41",
   "metadata": {},
   "source": [
    "### 3. submit() 함수로 wrapping\n",
    "#### 반드시 아래와 같이 submit() 이라는 함수로 위에 정의된 etri_task3_submit 함수를 wrapping해야 합니다."
   ]
  },
  {
   "cell_type": "code",
   "execution_count": 3,
   "id": "b78fa21b",
   "metadata": {},
   "outputs": [],
   "source": [
    "def submit():\n",
    "    return etri_task3_submit"
   ]
  },
  {
   "cell_type": "markdown",
   "id": "bd371880",
   "metadata": {},
   "source": [
    "### 4. if name == \"main\" 조건문을 이용한 제출 수행\n",
    "#### 아래와 같이 if __name__ == \"__main__\" 구문 내에서 제출 함수가 실행되게끔 합니다.\n",
    "#### ※ task별, 참가자별로 key가 다릅니다. 잘못 입력하지 않도록 유의바랍니다.\n",
    "- key는 각팀 팀장분에게 메일로 할당된 계정을 이용하여 task별로 확인하실 수 있습니다."
   ]
  },
  {
   "cell_type": "code",
   "execution_count": 4,
   "id": "b3468396",
   "metadata": {
    "scrolled": true
   },
   "outputs": [
    {
     "name": "stdout",
     "output_type": "stream",
     "text": [
      "file : task.py\n",
      "python\n",
      "파일 전송 완료\n",
      "score = 345.7167(Success - Your WKT score: 0.7151515, Weight Size: 345.7167)\n",
      "155.333425283432\n"
     ]
    }
   ],
   "source": [
    "import aifactory.score as aif\n",
    "import time\n",
    "t = time.time()\n",
    "if __name__ == \"__main__\":\n",
    "    #-----------------------------------------------------#\n",
    "    aif.submit(model_name=\"09_dec_model_size_with_08_masks\",\n",
    "               key=\"a07806dd-83c3-451e-82dd-cabaa0668b9c\",\n",
    "               func=submit # submit function\n",
    "               )\n",
    "    #-----------------------------------------------------#\n",
    "    print(time.time() - t)"
   ]
  }
 ],
 "metadata": {
  "kernelspec": {
   "display_name": "Python 3 (ipykernel)",
   "language": "python",
   "name": "python3"
  },
  "language_info": {
   "codemirror_mode": {
    "name": "ipython",
    "version": 3
   },
   "file_extension": ".py",
   "mimetype": "text/x-python",
   "name": "python",
   "nbconvert_exporter": "python",
   "pygments_lexer": "ipython3",
   "version": "3.11.7"
  }
 },
 "nbformat": 4,
 "nbformat_minor": 5
}
