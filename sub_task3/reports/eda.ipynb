{
 "cells": [
  {
   "cell_type": "markdown",
   "metadata": {},
   "source": [
    "### 학습 데이터와 평가 데이터의 차이를 알아보기 위한 EDA"
   ]
  },
  {
   "cell_type": "code",
   "execution_count": 14,
   "metadata": {},
   "outputs": [],
   "source": [
    "# built-in library\n",
    "import os\n",
    "\n",
    "# external-library\n",
    "import numpy as np\n",
    "\n",
    "# visualization\n",
    "import matplotlib.pyplot as plt"
   ]
  },
  {
   "cell_type": "code",
   "execution_count": 15,
   "metadata": {},
   "outputs": [],
   "source": [
    "ROOT = \"C:\\\\Users\\project\\\\competitions\\\\24-ETRI-FASHION_HOW_S5\\\\aif\\\\data\""
   ]
  },
  {
   "cell_type": "markdown",
   "metadata": {},
   "source": [
    "### 학습 데이터와 평가 데이터의 평균 발화문 길이 확인"
   ]
  },
  {
   "cell_type": "code",
   "execution_count": 21,
   "metadata": {},
   "outputs": [],
   "source": [
    "import file_io"
   ]
  },
  {
   "cell_type": "code",
   "execution_count": 35,
   "metadata": {},
   "outputs": [
    {
     "name": "stdout",
     "output_type": "stream",
     "text": [
      "loading dialog DB\n",
      "# of dialog: 1000 sets\n",
      "task 1 학습 데이터의 평균 발화문 길이: 15.344\n",
      "loading dialog DB\n",
      "# of dialog: 1000 sets\n",
      "task 2 학습 데이터의 평균 발화문 길이: 14.71\n",
      "loading dialog DB\n",
      "# of dialog: 1000 sets\n",
      "task 3 학습 데이터의 평균 발화문 길이: 14.734\n",
      "loading dialog DB\n",
      "# of dialog: 1000 sets\n",
      "task 4 학습 데이터의 평균 발화문 길이: 15.274\n",
      "loading dialog DB\n",
      "# of dialog: 1001 sets\n",
      "task 5 학습 데이터의 평균 발화문 길이: 14.532467532467532\n",
      "loading dialog DB\n",
      "# of dialog: 999 sets\n",
      "task 6 학습 데이터의 평균 발화문 길이: 14.963963963963964\n"
     ]
    }
   ],
   "source": [
    "# 학습 데이터\n",
    "for i in range(1, 7):\n",
    "    data_path = os.path.join(ROOT, f\"task{i}.ddata.wst.txt\")\n",
    "\n",
    "    dialog, coordi, reward, delim_dlg, delim_crd, delim_rwd = \\\n",
    "                                        file_io._load_trn_dialog(data_path)\n",
    "    dialog = file_io._episode_slice(dialog, delim_dlg)\n",
    "\n",
    "    print(f\"task {i} 학습 데이터의 평균 발화문 길이: \", end='')\n",
    "    print(np.array([len(episode) for episode in dialog]).mean())"
   ]
  },
  {
   "cell_type": "code",
   "execution_count": 36,
   "metadata": {},
   "outputs": [
    {
     "name": "stdout",
     "output_type": "stream",
     "text": [
      "loading dialog DB\n",
      "# of dialog: 70 sets\n",
      "task 1 평가 데이터의 평균 발화문 길이: 6.171428571428572\n",
      "loading dialog DB\n",
      "# of dialog: 70 sets\n",
      "task 2 평가 데이터의 평균 발화문 길이: 6.042857142857143\n",
      "loading dialog DB\n",
      "# of dialog: 70 sets\n",
      "task 3 평가 데이터의 평균 발화문 길이: 6.057142857142857\n",
      "loading dialog DB\n",
      "# of dialog: 65 sets\n",
      "task 4 평가 데이터의 평균 발화문 길이: 6.0\n",
      "loading dialog DB\n",
      "# of dialog: 65 sets\n",
      "task 5 평가 데이터의 평균 발화문 길이: 6.0\n",
      "loading dialog DB\n",
      "# of dialog: 70 sets\n",
      "task 6 평가 데이터의 평균 발화문 길이: 6.114285714285714\n"
     ]
    }
   ],
   "source": [
    "# 평가 데이터\n",
    "for i in range(1, 7):\n",
    "    data_path = os.path.join(ROOT, f\"cl_eval_task{i}.wst.dev\")\n",
    "\n",
    "    dialog, coordi, reward = file_io._load_eval_dialog(data_path, 3)\n",
    "\n",
    "    print(f\"task {i} 평가 데이터의 평균 발화문 길이: \", end='')\n",
    "    print(np.array([len(episode) for episode in dialog]).mean())"
   ]
  },
  {
   "cell_type": "markdown",
   "metadata": {},
   "source": [
    "- 학습 데이터의 평균 발화문 길이: 15\n",
    "- 평가 데이터의 평균 발화문 길이: 6\n",
    "- 2배 이상의 차이를 보인다."
   ]
  },
  {
   "cell_type": "markdown",
   "metadata": {},
   "source": [
    "### 학습 데이터와 평가 데이터의 발화문 구성 차이"
   ]
  },
  {
   "cell_type": "markdown",
   "metadata": {},
   "source": [
    "**학습 데이터 예시**\n",
    "```text\n",
    "0 \t<CO>\t안녕하세요. 코디봇입니다. 무엇을 도와드릴까요?\tINTRO\n",
    "1 \t<US>\t최근에 열린 꽃축제에 가려고 하는데, 그때 입을 스커트를 포함한 의상 추천해주세요.\t\n",
    "2 \t<CO>\t원하시는 스커트 기장이 있으신가요?\tASK_LENGTH\n",
    "3 \t<US>\t중간 기장으로 보여주세요.\t\n",
    "4 \t<CO>\t겉옷이 포함된 코디로 추천해드릴까요?\tSUGGEST_TYPE\n",
    "5 \t<US>\t얇은 가디건으로 추천 부탁드려요.\t\n",
    "6 \t<CO>\t네. 반영하여 추천드리겠습니다. 잠시만 기다려주세요.\tETC;WAIT\n",
    "7 \t<AC>\tCD-032 BL-216 SK-259 SE-175\n",
    "8 \t<CO>\t아이보리 색상의 머메이드형 스커트와 부드러운 소재의 베이지 색상 가디건을 포함한 코디를 추천해드립니다. 마음에 드시나요?\tEXP_RES_COLOR;EXP_RES_ETC;EXP_RES_MATERIAL;CONFIRM_SATISFACTION\n",
    "9 \t<US>\t상의와 신발은 캐쥬얼한 디자인이 마음에 들어요. 그런데 가디건은 길이가 조금 긴 것 같아 짧은 의상으로, 치마는 활동하기 편한 스커트로 부탁드려요.\tUSER_SUCCESS_PART\n",
    "10 \t<CO>\t네. 가디건은 원하시는 색상이 있나요?\tASK_COLOR\n",
    "11 \t<US>\t베이지색 계열로 보여주세요.\t\n",
    "12 \t<CO>\t네. 반영하여 다시 추천드리겠습니다. 잠시만 기다려주세요.\tETC;WAIT\n",
    "13 \t<AC>\tCD-220 SK-418\n",
    "14 \t<CO>\t퍼프 소매 디자인이 가미된 베이지 색상의 가디건과 넛넛한 핏으로 활동하기 편한 플레어형 스커트를 추천해드립니다. 마음에 드시나요?\tEXP_RES_PATTERN;EXP_RES_COLOR;EXP_RES_WIDTH;EXP_RES_DESCRIPTION;CONFIRM_SATISFACTION\n",
    "15 \t<US>\t가디건은 핏이 마음에 드는데, 스커트는 때가 탈 것 같아 다른 색상으로 보여주세요.\tUSER_SUCCESS_PART\n",
    "16 \t<CO>\t네. 어두운 색상으로 다시 추천해드리겠습니다. 잠시만 기다려주세요.\tCONFIRM_REPLY;WAIT\n",
    "17 \t<AC>\tSK-287\n",
    "18 \t<CO>\t종아리까지 오는 블랙 색상의 스커트입니다. 마음에 드시나요?\tEXP_RES_LENGTH;EXP_RES_COLOR;CONFIRM_SATISFACTION\n",
    "19 \t<US>\t색상이랑 디자인이 튀지 않고 움직이기 편해보여 마음에 들어요.\tUSER_SUCCESS\n",
    "20 \t<CO>\t마음에 드셨다니 다행입니다.\tETC\n",
    "21 \t<AC>\tCD-220 BL-216 SK-287 SE-175\n",
    "22 \t<CO>\t선택하신 아이템으로 구성된 최종 코디입니다. 마음에 드시나요?\tCONFIRM_SHOW;CONFIRM_SATISFACTION\n",
    "23 \t<US>\t네. 스타일에 신경 쓰면서도 간단하게 입고 갈 수 있을 것 같아 마음에 들어요.\tUSER_SUCCESS\n",
    "24 \t<CO>\t마음에 드셨다니 다행입니다.\tSUCCESS\n",
    "25 \t<CO>\t코디봇을 이용해주셔서 감사합니다.\tCLOSING\n",
    "```"
   ]
  },
  {
   "cell_type": "markdown",
   "metadata": {},
   "source": [
    "**평가 데이터 예시**\n",
    "```text\n",
    "; 0\n",
    "CO\t안녕하세요. 코디봇입니다. 무엇을 도와드릴까요?\n",
    "US\t꽃축제에 어울릴만한 코디를 추천해주세요\n",
    "CO\t가을과 잘 어울리는 따뜻한 소재의 치마가 포함된 코디를 추천해드릴까요?\n",
    "US\t치마 좋아요. 하체비만이라서 치마가 길었으면 좋겠어요\n",
    "CO\t상의는 축제에서 활동하기 편하도록 넉넉한 핏으로 추천해드릴까요?\n",
    "US\t좋아요.\n",
    "R1\tJP-345 KN-406 SK-338 SE-194\n",
    "R2\tJP-345 KN-396 SK-338 SE-194\n",
    "R3\tJP-345 KN-406 SK-383 SE-194\n",
    "```"
   ]
  },
  {
   "cell_type": "markdown",
   "metadata": {},
   "source": [
    "1. 학습 데이터에는 발화문의 성격을 나타내는 tag 정보가 존재한다. (평가 데이터에는 없음)\n",
    "2. 학습 데이터는 사용자와 대화를 진행하며 추천할 코디를 찾아간다는 느낌이라면, 평가 데이터는 모든 정보를 먼저 물어본 뒤 한 번에 코디를 추천해주는 느낌이다.\n",
    "    - 평가 데이터의 발화문에는 추천한 코디에 대한 사용자의 반응을 물어보는 내용이 없다."
   ]
  },
  {
   "cell_type": "markdown",
   "metadata": {},
   "source": [
    "### 학습 데이터와 평가 데이터의 차이를 해결하기 위한 방법"
   ]
  },
  {
   "cell_type": "markdown",
   "metadata": {},
   "source": [
    "- 학습 데이터의 첫 번째 문장부터 6개 정도만 사용하면, 평가 데이터와 유사해질 것으로 판단했다. (육안으로 보았을 때)"
   ]
  },
  {
   "cell_type": "markdown",
   "metadata": {},
   "source": [
    "**학습 데이터 예시(6개만 사용)**\n",
    "```text\n",
    "0 \t<CO>\t안녕하세요. 코디봇입니다. 무엇을 도와드릴까요?\tINTRO\n",
    "1 \t<US>\t최근에 열린 꽃축제에 가려고 하는데, 그때 입을 스커트를 포함한 의상 추천해주세요.\t\n",
    "2 \t<CO>\t원하시는 스커트 기장이 있으신가요?\tASK_LENGTH\n",
    "3 \t<US>\t중간 기장으로 보여주세요.\t\n",
    "4 \t<CO>\t겉옷이 포함된 코디로 추천해드릴까요?\tSUGGEST_TYPE\n",
    "5 \t<US>\t얇은 가디건으로 추천 부탁드려요.\n",
    "```"
   ]
  },
  {
   "cell_type": "markdown",
   "metadata": {},
   "source": [
    "**평가 데이터 예시**\n",
    "```text\n",
    "; 0\n",
    "CO\t안녕하세요. 코디봇입니다. 무엇을 도와드릴까요?\n",
    "US\t꽃축제에 어울릴만한 코디를 추천해주세요\n",
    "CO\t가을과 잘 어울리는 따뜻한 소재의 치마가 포함된 코디를 추천해드릴까요?\n",
    "US\t치마 좋아요. 하체비만이라서 치마가 길었으면 좋겠어요\n",
    "CO\t상의는 축제에서 활동하기 편하도록 넉넉한 핏으로 추천해드릴까요?\n",
    "US\t좋아요.\n",
    "R1\tJP-345 KN-406 SK-338 SE-194\n",
    "R2\tJP-345 KN-396 SK-338 SE-194\n",
    "R3\tJP-345 KN-406 SK-383 SE-194\n",
    "```"
   ]
  }
 ],
 "metadata": {
  "kernelspec": {
   "display_name": "lgaimers",
   "language": "python",
   "name": "python3"
  },
  "language_info": {
   "codemirror_mode": {
    "name": "ipython",
    "version": 3
   },
   "file_extension": ".py",
   "mimetype": "text/x-python",
   "name": "python",
   "nbconvert_exporter": "python",
   "pygments_lexer": "ipython3",
   "version": "3.11.7"
  }
 },
 "nbformat": 4,
 "nbformat_minor": 2
}
